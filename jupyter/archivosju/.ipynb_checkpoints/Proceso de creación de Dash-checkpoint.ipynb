{
 "cells": [
  {
   "cell_type": "code",
   "execution_count": 3,
   "id": "f242fe49",
   "metadata": {
    "scrolled": true
   },
   "outputs": [
    {
     "name": "stdout",
     "output_type": "stream",
     "text": [
      "Collecting pymysql\n",
      "  Downloading PyMySQL-1.0.2-py3-none-any.whl (43 kB)\n",
      "\u001b[K     |████████████████████████████████| 43 kB 293 kB/s eta 0:00:01\n",
      "\u001b[?25hCollecting pandas\n",
      "  Downloading pandas-1.2.4-cp39-cp39-manylinux1_x86_64.whl (9.7 MB)\n",
      "\u001b[K     |████████████████████████████████| 9.7 MB 4.1 MB/s eta 0:00:01\n",
      "\u001b[?25hCollecting dash\n",
      "  Downloading dash-1.20.0.tar.gz (77 kB)\n",
      "\u001b[K     |████████████████████████████████| 77 kB 4.2 MB/s eta 0:00:01\n",
      "\u001b[?25hCollecting dash_html_components\n",
      "  Downloading dash_html_components-1.1.3.tar.gz (82 kB)\n",
      "\u001b[K     |████████████████████████████████| 82 kB 1.6 MB/s eta 0:00:01\n",
      "\u001b[?25hCollecting dash_core_components\n",
      "  Downloading dash_core_components-1.16.0.tar.gz (3.5 MB)\n",
      "\u001b[K     |████████████████████████████████| 3.5 MB 4.0 MB/s eta 0:00:01\n",
      "\u001b[?25hCollecting numpy>=1.16.5\n",
      "  Downloading numpy-1.20.3-cp39-cp39-manylinux_2_12_x86_64.manylinux2010_x86_64.whl (15.4 MB)\n",
      "\u001b[K     |████████████████████████████████| 15.4 MB 3.5 MB/s eta 0:00:01\n",
      "\u001b[?25hRequirement already satisfied: pytz>=2017.3 in /opt/conda/lib/python3.9/site-packages (from pandas) (2021.1)\n",
      "Requirement already satisfied: python-dateutil>=2.7.3 in /opt/conda/lib/python3.9/site-packages (from pandas) (2.8.1)\n",
      "Requirement already satisfied: six>=1.5 in /opt/conda/lib/python3.9/site-packages (from python-dateutil>=2.7.3->pandas) (1.16.0)\n",
      "Collecting Flask>=1.0.4\n",
      "  Downloading Flask-2.0.1-py3-none-any.whl (94 kB)\n",
      "\u001b[K     |████████████████████████████████| 94 kB 3.6 MB/s eta 0:00:01\n",
      "\u001b[?25hCollecting flask-compress\n",
      "  Downloading Flask_Compress-1.9.0-py3-none-any.whl (7.3 kB)\n",
      "Collecting plotly\n",
      "  Downloading plotly-4.14.3-py2.py3-none-any.whl (13.2 MB)\n",
      "\u001b[K     |████████████████████████████████| 13.2 MB 3.5 MB/s eta 0:00:01\n",
      "\u001b[?25hCollecting dash_renderer==1.9.1\n",
      "  Downloading dash_renderer-1.9.1.tar.gz (1.0 MB)\n",
      "\u001b[K     |████████████████████████████████| 1.0 MB 3.9 MB/s eta 0:00:01\n",
      "\u001b[?25hCollecting dash-table==4.11.3\n",
      "  Downloading dash_table-4.11.3.tar.gz (1.8 MB)\n",
      "\u001b[K     |████████████████████████████████| 1.8 MB 3.5 MB/s eta 0:00:01\n",
      "\u001b[?25hCollecting future\n",
      "  Downloading future-0.18.2.tar.gz (829 kB)\n",
      "\u001b[K     |████████████████████████████████| 829 kB 4.0 MB/s eta 0:00:01\n",
      "\u001b[?25hRequirement already satisfied: Jinja2>=3.0 in /opt/conda/lib/python3.9/site-packages (from Flask>=1.0.4->dash) (3.0.1)\n",
      "Collecting click>=7.1.2\n",
      "  Downloading click-8.0.1-py3-none-any.whl (97 kB)\n",
      "\u001b[K     |████████████████████████████████| 97 kB 4.1 MB/s eta 0:00:011\n",
      "\u001b[?25hCollecting Werkzeug>=2.0\n",
      "  Downloading Werkzeug-2.0.1-py3-none-any.whl (288 kB)\n",
      "\u001b[K     |████████████████████████████████| 288 kB 4.1 MB/s eta 0:00:01\n",
      "\u001b[?25hCollecting itsdangerous>=2.0\n",
      "  Downloading itsdangerous-2.0.1-py3-none-any.whl (18 kB)\n",
      "Requirement already satisfied: MarkupSafe>=2.0 in /opt/conda/lib/python3.9/site-packages (from Jinja2>=3.0->Flask>=1.0.4->dash) (2.0.1)\n",
      "Collecting brotli\n",
      "  Downloading Brotli-1.0.9-cp39-cp39-manylinux1_x86_64.whl (357 kB)\n",
      "\u001b[K     |████████████████████████████████| 357 kB 4.0 MB/s eta 0:00:01\n",
      "\u001b[?25hCollecting retrying>=1.3.3\n",
      "  Downloading retrying-1.3.3.tar.gz (10 kB)\n",
      "Building wheels for collected packages: dash, dash-html-components, dash-core-components, dash-renderer, dash-table, future, retrying\n",
      "  Building wheel for dash (setup.py) ... \u001b[?25ldone\n",
      "\u001b[?25h  Created wheel for dash: filename=dash-1.20.0-py3-none-any.whl size=85831 sha256=d8915af594f63a71943779a00f449791c9cbaded48088da4820ed6e5779b7213\n",
      "  Stored in directory: /home/jovyan/.cache/pip/wheels/4b/cb/a6/817d490fb0a1abb2d078b9e9ee835bf7f039d1fd8b9c61b25e\n",
      "  Building wheel for dash-html-components (setup.py) ... \u001b[?25ldone\n",
      "\u001b[?25h  Created wheel for dash-html-components: filename=dash_html_components-1.1.3-py3-none-any.whl size=319471 sha256=44098f0c5446d88b4bc9a9550bddd5329cef9cd260eb0ef58b1a0e3959667448\n",
      "  Stored in directory: /home/jovyan/.cache/pip/wheels/f7/eb/55/521dda099c8b09eed0178328cbe10306cb3fee851efd70ae4f\n",
      "  Building wheel for dash-core-components (setup.py) ... \u001b[?25ldone\n",
      "\u001b[?25h  Created wheel for dash-core-components: filename=dash_core_components-1.16.0-py3-none-any.whl size=3540991 sha256=0342fca7de8e0107d5d8e7a12cbb9f8c4527ed9b78732d1a96dc3b3f30de15ba\n",
      "  Stored in directory: /home/jovyan/.cache/pip/wheels/a1/21/97/554773c64b38bf753f189054921c9217174a96d500f15b7f93\n",
      "  Building wheel for dash-renderer (setup.py) ... \u001b[?25ldone\n",
      "\u001b[?25h  Created wheel for dash-renderer: filename=dash_renderer-1.9.1-py3-none-any.whl size=1014878 sha256=77cc3994d51b9f3785c7547d51a6b7e9cc977919d986d1ee22cce70871ca731b\n",
      "  Stored in directory: /home/jovyan/.cache/pip/wheels/52/2f/28/956ce9f7763c886d23f0082829bd726e5dacd6c708a5841c77\n",
      "  Building wheel for dash-table (setup.py) ... \u001b[?25ldone\n",
      "\u001b[?25h  Created wheel for dash-table: filename=dash_table-4.11.3-py3-none-any.whl size=1827618 sha256=344f5f3ec3204d6c62d3e5e0c64c6c2b670340636d4b0850bc6daa6267c32769\n",
      "  Stored in directory: /home/jovyan/.cache/pip/wheels/fb/0c/3d/fd6e565aa34ba87d6d110898b3297d2b78ef70339f1c2a483e\n",
      "  Building wheel for future (setup.py) ... \u001b[?25ldone\n",
      "\u001b[?25h  Created wheel for future: filename=future-0.18.2-py3-none-any.whl size=491059 sha256=fd9bbd2737f1baff6f5a4d995c450b46c6a57978ea4108da9b3a2fbbbb8dbf23\n",
      "  Stored in directory: /home/jovyan/.cache/pip/wheels/2f/a0/d3/4030d9f80e6b3be787f19fc911b8e7aa462986a40ab1e4bb94\n",
      "  Building wheel for retrying (setup.py) ... \u001b[?25ldone\n",
      "\u001b[?25h  Created wheel for retrying: filename=retrying-1.3.3-py3-none-any.whl size=11429 sha256=7b2788760e346bfefc9c089fc39b616872ebd624d1cf4e7ab8377f42d64d9c36\n",
      "  Stored in directory: /home/jovyan/.cache/pip/wheels/ce/18/7f/e9527e3e66db1456194ac7f61eb3211068c409edceecff2d31\n",
      "Successfully built dash dash-html-components dash-core-components dash-renderer dash-table future retrying\n",
      "Installing collected packages: Werkzeug, itsdangerous, click, retrying, Flask, brotli, plotly, numpy, future, flask-compress, dash-table, dash-renderer, dash-html-components, dash-core-components, pymysql, pandas, dash\n",
      "Successfully installed Flask-2.0.1 Werkzeug-2.0.1 brotli-1.0.9 click-8.0.1 dash-1.20.0 dash-core-components-1.16.0 dash-html-components-1.1.3 dash-renderer-1.9.1 dash-table-4.11.3 flask-compress-1.9.0 future-0.18.2 itsdangerous-2.0.1 numpy-1.20.3 pandas-1.2.4 plotly-4.14.3 pymysql-1.0.2 retrying-1.3.3\n"
     ]
    }
   ],
   "source": [
    "!pip3 install pymysql pandas dash dash_html_components dash_core_components"
   ]
  },
  {
   "cell_type": "code",
   "execution_count": 7,
   "id": "5513e5f4",
   "metadata": {},
   "outputs": [],
   "source": [
    "import pandas as pd\n",
    "import pymysql"
   ]
  },
  {
   "cell_type": "code",
   "execution_count": 13,
   "id": "30c00f1a",
   "metadata": {},
   "outputs": [
    {
     "name": "stdout",
     "output_type": "stream",
     "text": [
      "Resultados de PyMySQL:\n",
      "(('$ 3.200.000', 'Administrativo'), ('$ 3.200.000', 'Docente'), ('$ 4.500.000', 'Docente'), ('$ 3.200.000', 'Docente'), ('$ 3.200.000', 'Docente'), ('$ 1.500.000', 'Aux. Administrativo'), ('$ 3.200.000', 'Docente'), ('$ 4.200.000', 'Administrativo'), ('$ 3.200.000', 'Docente'), ('$ 3.200.000', 'Docente'), ('$ 3.200.000', 'Docente'), ('$ 1.500.000', 'Aux. Administrativo'), ('$ 3.200.000', 'Docente'), ('$ 5.600.000', 'Administrativo'), ('$ 4.200.000', 'Docente'), ('$ 5.600.000', 'Docente'), ('$ 6.500.000', 'Docente'), ('$ 3.200.000', 'Docente'), ('$ 1.350.000', 'Aux. Administrativo'), ('$ 1.200.000', 'Aux. Administrativo'), ('$ 1.600.000', 'Aux. Administrativo'), ('$ 4.100.000', 'Administrativo'), ('$ 3.200.000', 'Docente'), ('$ 3.200.000', 'Docente'), ('$ 3.200.000', 'Docente'), ('$ 3.200.000', 'Docente'), ('$ 2.800.000', 'T?cnico'), ('$ 2.560.000', 'Administrativo'), ('$ 2.400.000', 'Administrativo'), ('$ 1.350.000', 'Aux. Administrativo'), ('$ 1.460.000', 'Docente'), ('$ 1.350.000', 'Docente'), ('$ 1.350.000', 'Docente'), ('$ 1.500.000', 'Docente'), ('$ 1.350.000', 'Docente'), ('$ 1.350.000', 'Docente'), ('$ 1.350.000', 'Docente'), ('$ 1.280.000', 'Docente'), ('$ 1.350.000', 'T?cnico'), ('$ 1.350.000', 'Aux. Administrativo'), ('$ 5.600.000', 'Administrativo'), ('$ 2.700.000', 'Docente'), ('$ 2.300.000', 'Docente'), ('$ 2.300.000', 'Docente'), ('$ 2.300.000', 'Docente'), ('$ 2.300.000', 'Docente'), ('$ 2.300.000', 'Docente'), ('$ 4.100.000', 'Docente'), ('$ 3.800.000', 'Docente'), ('$ 1.350.000', 'Aux. Administrativo'), ('$ 2.500.000', 'Administrativo'), ('$ 2.600.000', 'Administrativo'), ('$ 2.960.000', 'Administrativo'), ('$ 1.350.000', 'Aux. Administrativo'), ('$ 4.350.000', 'Administrativo'), ('$ 5.600.000', 'Administrativo'), ('$ 4.900.000', 'Docente'), ('$ 2.000.000', 'T?cnico'), ('$ 1.300.000', 'T?cnico'), ('$ 1.100.000', 'T?cnico'), ('$ 1.350.000', 'Aux. Administrativo'), ('$ 1.350.000', 'Aux. Administrativo'), ('$ 5.600.000', 'Administrativo'), ('$ 3.200.000', 'Docente'), ('$ 2.400.000', 'Docente'), ('$ 3.200.000', 'Docente'), ('$ 3.200.000', 'Docente'), ('$ 3.200.000', 'Docente'), ('$ 3.200.000', 'Docente'), ('$ 4.800.000', 'Docente'), ('$ 3.200.000', 'Docente'), ('$ 4.000.000', 'Docente'), ('$ 1.700.000', 'T?cnico'), ('$ 3.500.000', 'Docente'), ('$ 3.600.000', 'Docente'), ('$ 2.300.000', 'Administrativo'), ('$ 1.390.000', 'Aux. Administrativo'), ('$ 5.700.000', 'Administrativo'), ('$ 1.900.000', 'T?cnico'), ('$ 1.350.000', 'T?cnico'), ('$ 4.900.000', 'Docente'), ('$ 2.940.000', 'Docente'), ('$ 1.350.000', 'Docente'), ('$ 1.350.000', 'Aux. Administrativo'), ('$ 5.600.000', 'Administrativo'), ('$ 980.000', 'Aux. T?cnico'), ('$ 2.900.000', 'Docente'), ('$ 4.600.000', 'Docente'), ('$ 5.600.000', 'Docente'), ('$ 1.350.000', 'Aux. Administrativo'), ('$ 1.350.000', 'Docente'), ('$ 1.980.000', 'Docente'), ('$ 2.100.000', 'Docente'), ('$ 2.600.000', 'Docente'), ('$ 3.100.000', 'Docente'), ('$ 5.600.000', 'Administrativo'), ('$ 3.800.000', 'Docente'), ('$ 1.350.000', 'Aux. Administrativo'), ('$ 3.200.000', 'Docente'), ('$ 4.700.000', 'Docente'), ('$ 3.200.000', 'Docente'), ('$ 4.100.000', 'Docente investigador'), ('$ 3.200.000', 'Docente investigador'), ('$ 3.900.000', 'Docente investigador'), ('$ 3.200.000', 'Administrativo'), ('$ 3.200.000', 'Docente'), ('$ 3.200.000', 'Docente'), ('$ 3.200.000', 'Docente'), ('$ 3.700.000', 'Docente investigador'), ('$ 3.600.000', 'Docente investigador'), ('$ 4.200.000', 'Administrativo'), ('$ 3.600.000', 'Docente investigador'), ('$ 3.700.000', 'Docente investigador'), ('$ 3.400.000', 'Docente investigador'))\n"
     ]
    }
   ],
   "source": [
    "print (\"Resultados de PyMySQL:\")\n",
    "miConexion = pymysql.connect( host='mysql', user= 'root', passwd='', db='proyecto' )\n",
    "cur = miConexion.cursor()\n",
    "cur.execute( \"SELECT `Salario`,`Cargo` FROM `data` WHERE 1\" )\n",
    "df_salario = pd.DataFrame(cur.fetchall())\n"
   ]
  },
  {
   "cell_type": "code",
   "execution_count": null,
   "id": "157df04e",
   "metadata": {},
   "outputs": [],
   "source": []
  }
 ],
 "metadata": {
  "kernelspec": {
   "display_name": "Python 3",
   "language": "python",
   "name": "python3"
  },
  "language_info": {
   "codemirror_mode": {
    "name": "ipython",
    "version": 3
   },
   "file_extension": ".py",
   "mimetype": "text/x-python",
   "name": "python",
   "nbconvert_exporter": "python",
   "pygments_lexer": "ipython3",
   "version": "3.9.2"
  }
 },
 "nbformat": 4,
 "nbformat_minor": 5
}
